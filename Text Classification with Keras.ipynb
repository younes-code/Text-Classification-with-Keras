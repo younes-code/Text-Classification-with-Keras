{
 "cells": [
  {
   "cell_type": "markdown",
   "metadata": {},
   "source": [
    "## Quiz #0801"
   ]
  },
  {
   "cell_type": "markdown",
   "metadata": {},
   "source": [
    "### \"Text Classification with Keras\""
   ]
  },
  {
   "cell_type": "code",
   "execution_count": 78,
   "metadata": {},
   "outputs": [],
   "source": [
    "import numpy as np\n",
    "import pandas as pd\n",
    "import re\n",
    "import nltk\n",
    "import os\n",
    "import seaborn as sns\n",
    "import matplotlib.pyplot as plt\n",
    "from nltk.corpus import stopwords\n",
    "from sklearn.datasets import load_files\n",
    "from sklearn.model_selection import train_test_split\n",
    "from keras.models import Sequential\n",
    "from keras.layers import Dense, SimpleRNN, LSTM, Embedding\n",
    "from keras.utils import to_categorical\n",
    "from keras.preprocessing import sequence\n",
    "from keras.optimizers import Adam, RMSprop, SGD\n",
    "from keras.callbacks import EarlyStopping\n",
    "\n",
    "import tensorflow.keras as keras\n",
    "from tensorflow.keras.layers import Conv1D, Bidirectional, LSTM, Dense, Input, Dropout,Activation\n",
    "from tensorflow.keras.layers import SpatialDropout1D\n",
    "from tensorflow.keras.callbacks import ModelCheckpoint\n",
    "#nltk.download('stopwords')"
   ]
  },
  {
   "cell_type": "markdown",
   "metadata": {},
   "source": [
    "#### Answer the following question by providing Python code:"
   ]
  },
  {
   "cell_type": "markdown",
   "metadata": {},
   "source": [
    "1). Read in the movie review data from Cornell CS department. Carry out the EDA. <br>\n",
    "- The data can be found [here](https://www.cs.cornell.edu/people/pabo/movie-review-data). <br>\n",
    "- Download the “polarity dataset” and unzip. <br>\n",
    "- Under the \"txt_sentoken” folder, there are “pos” and “neg\" subfolders. <br>"
   ]
  },
  {
   "cell_type": "code",
   "execution_count": 48,
   "metadata": {},
   "outputs": [],
   "source": [
    "#read the subfolders.\n",
    "reviews = load_files(r'txt_sentoken',shuffle=True, encoding=\"utf-8\")\n",
    "my_docs, y = reviews.data, reviews.target"
   ]
  },
  {
   "cell_type": "code",
   "execution_count": 49,
   "metadata": {},
   "outputs": [
    {
     "data": {
      "text/plain": [
       "\"arnold schwarzenegger has been an icon for action enthusiasts , since the late 80's , but lately his films have been very sloppy and the one-liners are getting worse . \\nit's hard seeing arnold as mr . freeze in batman and robin , especially when he says tons of ice jokes , but hey he got 15 million , what's it matter to him ? \\nonce again arnold has signed to do another expensive blockbuster , that can't compare with the likes of the terminator series , true lies and even eraser . \\nin this so called dark thriller , the devil ( gabriel byrne ) has come upon earth , to impregnate a woman ( robin tunney ) which happens every 1000 years , and basically destroy the world , but apparently god has chosen one man , and that one man is jericho cane ( arnold himself ) . \\nwith the help of a trusty sidekick ( kevin pollack ) , they will stop at nothing to let the devil take over the world ! \\nparts of this are actually so absurd , that they would fit right in with dogma . \\nyes , the film is that weak , but it's better than the other blockbuster right now ( sleepy hollow ) , but it makes the world is not enough look like a 4 star film . \\nanyway , this definitely doesn't seem like an arnold movie . \\nit just wasn't the type of film you can see him doing . \\nsure he gave us a few chuckles with his well known one-liners , but he seemed confused as to where his character and the film was going . \\nit's understandable , especially when the ending had to be changed according to some sources . \\naside form that , he still walked through it , much like he has in the past few films . \\ni'm sorry to say this arnold but maybe these are the end of your action days . \\nspeaking of action , where was it in this film ? \\nthere was hardly any explosions or fights . \\nthe devil made a few places explode , but arnold wasn't kicking some devil butt . \\nthe ending was changed to make it more spiritual , which undoubtedly ruined the film . \\ni was at least hoping for a cool ending if nothing else occurred , but once again i was let down . \\ni also don't know why the film took so long and cost so much . \\nthere was really no super affects at all , unless you consider an invisible devil , who was in it for 5 minutes tops , worth the overpriced budget . \\nthe budget should have gone into a better script , where at least audiences could be somewhat entertained instead of facing boredom . \\nit's pitiful to see how scripts like these get bought and made into a movie . \\ndo they even read these things anymore ? \\nit sure doesn't seem like it . \\nthankfully gabriel's performance gave some light to this poor film . \\nwhen he walks down the street searching for robin tunney , you can't help but feel that he looked like a devil . \\nthe guy is creepy looking anyway ! \\nwhen it's all over , you're just glad it's the end of the movie . \\ndon't bother to see this , if you're expecting a solid action flick , because it's neither solid nor does it have action . \\nit's just another movie that we are suckered in to seeing , due to a strategic marketing campaign . \\nsave your money and see the world is not enough for an entertaining experience . \\n\""
      ]
     },
     "execution_count": 49,
     "metadata": {},
     "output_type": "execute_result"
    }
   ],
   "source": [
    "my_docs[0]"
   ]
  },
  {
   "cell_type": "code",
   "execution_count": 50,
   "metadata": {},
   "outputs": [
    {
     "data": {
      "text/plain": [
       "2000"
      ]
     },
     "execution_count": 50,
     "metadata": {},
     "output_type": "execute_result"
    }
   ],
   "source": [
    "len(my_docs)"
   ]
  },
  {
   "cell_type": "code",
   "execution_count": 51,
   "metadata": {
    "scrolled": true
   },
   "outputs": [
    {
     "data": {
      "text/plain": [
       "(array([0, 1]), array([1000, 1000], dtype=int64))"
      ]
     },
     "execution_count": 51,
     "metadata": {},
     "output_type": "execute_result"
    }
   ],
   "source": [
    "np.unique(y, return_counts=True)"
   ]
  },
  {
   "cell_type": "code",
   "execution_count": 52,
   "metadata": {},
   "outputs": [
    {
     "name": "stderr",
     "output_type": "stream",
     "text": [
      "C:\\Anaconda\\envs\\tensorflow\\lib\\site-packages\\seaborn\\_decorators.py:36: FutureWarning: Pass the following variable as a keyword arg: x. From version 0.12, the only valid positional argument will be `data`, and passing other arguments without an explicit keyword will result in an error or misinterpretation.\n",
      "  warnings.warn(\n"
     ]
    },
    {
     "data": {
      "image/png": "[encoded data removed]",
      "text/plain": [
       "<Figure size 432x288 with 1 Axes>"
      ]
     },
     "metadata": {
      "needs_background": "light"
     },
     "output_type": "display_data"
    }
   ],
   "source": [
    "# Visualize the response variable.\n",
    "sns.countplot(y).set_title(\"Frequency Table\")\n",
    "plt.show()\n"
   ]
  },
  {
   "cell_type": "markdown",
   "metadata": {},
   "source": [
    "2). Carry out the data preprocessing: <br>\n",
    "- Cleaning.\n",
    "- Stopword removal."
   ]
  },
  {
   "cell_type": "markdown",
   "metadata": {},
   "source": [
    "Tekonization :"
   ]
  },
  {
   "cell_type": "code",
   "execution_count": 53,
   "metadata": {},
   "outputs": [],
   "source": [
    "docs=[]\n",
    "for i in range(len(my_docs)):\n",
    "    docs.append(my_docs[i].lower())"
   ]
  },
  {
   "cell_type": "code",
   "execution_count": 54,
   "metadata": {},
   "outputs": [],
   "source": [
    "sents=[]\n",
    "for i in range(len(docs)):\n",
    "    sents.append(nltk.sent_tokenize(docs[i]))"
   ]
  },
  {
   "cell_type": "code",
   "execution_count": 55,
   "metadata": {
    "scrolled": true
   },
   "outputs": [
    {
     "data": {
      "text/plain": [
       "\"arnold schwarzenegger has been an icon for action enthusiasts , since the late 80's , but lately his films have been very sloppy and the one-liners are getting worse .\""
      ]
     },
     "execution_count": 55,
     "metadata": {},
     "output_type": "execute_result"
    }
   ],
   "source": [
    "sents[0][0]"
   ]
  },
  {
   "cell_type": "code",
   "execution_count": 56,
   "metadata": {},
   "outputs": [],
   "source": [
    "words=[]\n",
    "for i in range (len(sents)):\n",
    "    word=[]\n",
    "    for j in range(len(sents[i])):\n",
    "        word.append(sents[i][j].split(\" \"))\n",
    "    words.append(word)"
   ]
  },
  {
   "cell_type": "code",
   "execution_count": 57,
   "metadata": {},
   "outputs": [
    {
     "name": "stdout",
     "output_type": "stream",
     "text": [
      "['arnold', 'schwarzenegger', 'has', 'been', 'an', 'icon', 'for', 'action', 'enthusiasts', ',', 'since', 'the', 'late', \"80's\", ',', 'but', 'lately', 'his', 'films', 'have', 'been', 'very', 'sloppy', 'and', 'the', 'one-liners', 'are', 'getting', 'worse', '.']\n"
     ]
    }
   ],
   "source": [
    "print(words[0][0])"
   ]
  },
  {
   "cell_type": "markdown",
   "metadata": {},
   "source": [
    "Stemming :"
   ]
  },
  {
   "cell_type": "code",
   "execution_count": 58,
   "metadata": {},
   "outputs": [],
   "source": [
    "from nltk.stem import PorterStemmer\n",
    "porter=PorterStemmer()"
   ]
  },
  {
   "cell_type": "code",
   "execution_count": 59,
   "metadata": {},
   "outputs": [],
   "source": [
    "for i in range(len(words)):\n",
    "    for j in range(len(words[i])):\n",
    "            words[i][j]=[porter.stem (x) for x in words[i][j]]"
   ]
  },
  {
   "cell_type": "code",
   "execution_count": 60,
   "metadata": {
    "scrolled": false
   },
   "outputs": [
    {
     "data": {
      "text/plain": [
       "['arnold',\n",
       " 'schwarzenegg',\n",
       " 'ha',\n",
       " 'been',\n",
       " 'an',\n",
       " 'icon',\n",
       " 'for',\n",
       " 'action',\n",
       " 'enthusiast',\n",
       " ',',\n",
       " 'sinc',\n",
       " 'the',\n",
       " 'late',\n",
       " \"80'\",\n",
       " ',',\n",
       " 'but',\n",
       " 'late',\n",
       " 'hi',\n",
       " 'film',\n",
       " 'have',\n",
       " 'been',\n",
       " 'veri',\n",
       " 'sloppi',\n",
       " 'and',\n",
       " 'the',\n",
       " 'one-lin',\n",
       " 'are',\n",
       " 'get',\n",
       " 'wors',\n",
       " '.']"
      ]
     },
     "execution_count": 60,
     "metadata": {},
     "output_type": "execute_result"
    }
   ],
   "source": [
    "words[0][0]"
   ]
  },
  {
   "cell_type": "markdown",
   "metadata": {},
   "source": [
    "Assamblng words back to sentences and texts :"
   ]
  },
  {
   "cell_type": "code",
   "execution_count": 61,
   "metadata": {},
   "outputs": [],
   "source": [
    "#joining words back to sentences\n",
    "sentences=[]\n",
    "for i in range (len(words)):\n",
    "    sentence=[]\n",
    "    for j in range(len(words[i])):\n",
    "        sentence.append(\" \".join(words[i][j]))\n",
    "    sentences.append(sentence)      "
   ]
  },
  {
   "cell_type": "code",
   "execution_count": 62,
   "metadata": {},
   "outputs": [
    {
     "data": {
      "text/plain": [
       "\"arnold schwarzenegg ha been an icon for action enthusiast , sinc the late 80' , but late hi film have been veri sloppi and the one-lin are get wors .\""
      ]
     },
     "execution_count": 62,
     "metadata": {},
     "output_type": "execute_result"
    }
   ],
   "source": [
    "sentences[0][0]"
   ]
  },
  {
   "cell_type": "code",
   "execution_count": 63,
   "metadata": {},
   "outputs": [],
   "source": [
    "document=[]\n",
    "for i in range(len(sentences)):\n",
    "    a=\" \".join(sentences[i])\n",
    "    document.append(a)"
   ]
  },
  {
   "cell_type": "code",
   "execution_count": 64,
   "metadata": {},
   "outputs": [
    {
     "data": {
      "text/plain": [
       "\"arnold schwarzenegg ha been an icon for action enthusiast , sinc the late 80' , but late hi film have been veri sloppi and the one-lin are get wors . it' hard see arnold as mr . freez in batman and robin , especi when he say ton of ice joke , but hey he got 15 million , what' it matter to him ? onc again arnold ha sign to do anoth expens blockbust , that can't compar with the like of the termin seri , true lie and even eras . in thi so call dark thriller , the devil ( gabriel byrn ) ha come upon earth , to impregn a woman ( robin tunney ) which happen everi 1000 year , and basic destroy the world , but appar god ha chosen one man , and that one man is jericho cane ( arnold himself ) . with the help of a trusti sidekick ( kevin pollack ) , they will stop at noth to let the devil take over the world ! part of thi are actual so absurd , that they would fit right in with dogma . ye , the film is that weak , but it' better than the other blockbust right now ( sleepi hollow ) , but it make the world is not enough look like a 4 star film . anyway , thi definit doesn't seem like an arnold movi . it just wasn't the type of film you can see him do . sure he gave us a few chuckl with hi well known one-lin , but he seem confus as to where hi charact and the film wa go . it' understand , especi when the end had to be chang accord to some sourc . asid form that , he still walk through it , much like he ha in the past few film . i'm sorri to say thi arnold but mayb these are the end of your action day . speak of action , where wa it in thi film ? there wa hardli ani explos or fight . the devil made a few place explod , but arnold wasn't kick some devil butt . the end wa chang to make it more spiritu , which undoubtedli ruin the film . i wa at least hope for a cool end if noth els occur , but onc again i wa let down . i also don't know whi the film took so long and cost so much . there wa realli no super affect at all , unless you consid an invis devil , who wa in it for 5 minut top , worth the overpr budget . the budget should have gone into a better script , where at least audienc could be somewhat entertain instead of face boredom . it' piti to see how script like these get bought and made into a movi . do they even read these thing anymor ? it sure doesn't seem like it . thank gabriel' perform gave some light to thi poor film . when he walk down the street search for robin tunney , you can't help but feel that he look like a devil . the guy is creepi look anyway ! when it' all over , you'r just glad it' the end of the movi . don't bother to see thi , if you'r expect a solid action flick , becaus it' neither solid nor doe it have action . it' just anoth movi that we are sucker in to see , due to a strateg market campaign . save your money and see the world is not enough for an entertain experi .\""
      ]
     },
     "execution_count": 64,
     "metadata": {},
     "output_type": "execute_result"
    }
   ],
   "source": [
    "document[0]"
   ]
  },
  {
   "cell_type": "markdown",
   "metadata": {},
   "source": [
    "Stopword removal :"
   ]
  },
  {
   "cell_type": "code",
   "execution_count": 65,
   "metadata": {},
   "outputs": [],
   "source": [
    "def cleantxt(txt):\n",
    "\n",
    "    # collecting english stop words from nltk-library\n",
    "    stpw = stopwords.words('english')\n",
    "    \n",
    "    # Adding custom stop-words\n",
    "    stpw.extend(['www','http','utc'])\n",
    "    stpw = set(stpw)\n",
    "    \n",
    "    # using regex to clean the text\n",
    "    txt = re.sub(r\"\\n\", \" \", txt)\n",
    "    txt = re.sub(\"[\\<\\[].*?[\\>\\]]\", \" \", txt)\n",
    "    txt = txt.lower()\n",
    "    txt = re.sub(r\"[^a-z ]\", \" \", txt)\n",
    "    txt = re.sub(r\"\\b\\w{1,3}\\b\", \" \",txt)\n",
    "    txt = \" \".join([x for x in txt.split() if x not in stpw])\n",
    "    return txt"
   ]
  },
  {
   "cell_type": "code",
   "execution_count": 66,
   "metadata": {},
   "outputs": [],
   "source": [
    "for i in range(len(document)):\n",
    "    document[i]=cleantxt(document[i])"
   ]
  },
  {
   "cell_type": "code",
   "execution_count": 67,
   "metadata": {
    "scrolled": true
   },
   "outputs": [
    {
     "data": {
      "text/plain": [
       "'arnold schwarzenegg icon action enthusiast sinc late late film veri sloppi wors hard arnold freez batman robin especi joke million matter arnold sign anoth expens blockbust compar like termin seri true even eras call dark thriller devil gabriel byrn come upon earth impregn woman robin tunney happen everi year basic destroy world appar chosen jericho cane arnold help trusti sidekick kevin pollack stop noth devil take world part actual absurd would right dogma film weak better blockbust right sleepi hollow make world enough look like star film anyway definit seem like arnold movi type film sure gave chuckl well known seem confus charact film understand especi chang accord sourc asid form still walk much like past film sorri arnold mayb action speak action film hardli explos fight devil made place explod arnold kick devil butt chang make spiritu undoubtedli ruin film least hope cool noth occur also know film took long cost much realli super affect unless consid invis devil minut worth overpr budget budget gone better script least audienc could somewhat entertain instead face boredom piti script like bought made movi even read thing anymor sure seem like thank gabriel perform gave light poor film walk street search robin tunney help feel look like devil creepi look anyway glad movi bother expect solid action flick becaus neither solid action anoth movi sucker strateg market campaign save money world enough entertain experi'"
      ]
     },
     "execution_count": 67,
     "metadata": {},
     "output_type": "execute_result"
    }
   ],
   "source": [
    "document[0]"
   ]
  },
  {
   "cell_type": "code",
   "execution_count": 68,
   "metadata": {
    "scrolled": false
   },
   "outputs": [],
   "source": [
    "df=pd.DataFrame(document,columns =['text'])\n"
   ]
  },
  {
   "cell_type": "code",
   "execution_count": 69,
   "metadata": {},
   "outputs": [],
   "source": [
    "df['sentiment'] = y"
   ]
  },
  {
   "cell_type": "code",
   "execution_count": 70,
   "metadata": {},
   "outputs": [
    {
     "data": {
      "text/html": [
       "<div>\n",
       "<style scoped>\n",
       "    .dataframe tbody tr th:only-of-type {\n",
       "        vertical-align: middle;\n",
       "    }\n",
       "\n",
       "    .dataframe tbody tr th {\n",
       "        vertical-align: top;\n",
       "    }\n",
       "\n",
       "    .dataframe thead th {\n",
       "        text-align: right;\n",
       "    }\n",
       "</style>\n",
       "<table border=\"1\" class=\"dataframe\">\n",
       "  <thead>\n",
       "    <tr style=\"text-align: right;\">\n",
       "      <th></th>\n",
       "      <th>text</th>\n",
       "      <th>sentiment</th>\n",
       "    </tr>\n",
       "  </thead>\n",
       "  <tbody>\n",
       "    <tr>\n",
       "      <th>0</th>\n",
       "      <td>arnold schwarzenegg icon action enthusiast sin...</td>\n",
       "      <td>0</td>\n",
       "    </tr>\n",
       "    <tr>\n",
       "      <th>1</th>\n",
       "      <td>good film hard find great film beyond rare pro...</td>\n",
       "      <td>1</td>\n",
       "    </tr>\n",
       "    <tr>\n",
       "      <th>2</th>\n",
       "      <td>quaid star taken proffes dragonslay feel betra...</td>\n",
       "      <td>1</td>\n",
       "    </tr>\n",
       "    <tr>\n",
       "      <th>3</th>\n",
       "      <td>could paraphras michel pfieffer charact danger...</td>\n",
       "      <td>0</td>\n",
       "    </tr>\n",
       "    <tr>\n",
       "      <th>4</th>\n",
       "      <td>kolya richest film seen time zdenek sverak pla...</td>\n",
       "      <td>1</td>\n",
       "    </tr>\n",
       "  </tbody>\n",
       "</table>\n",
       "</div>"
      ],
      "text/plain": [
       "                                                text  sentiment\n",
       "0  arnold schwarzenegg icon action enthusiast sin...          0\n",
       "1  good film hard find great film beyond rare pro...          1\n",
       "2  quaid star taken proffes dragonslay feel betra...          1\n",
       "3  could paraphras michel pfieffer charact danger...          0\n",
       "4  kolya richest film seen time zdenek sverak pla...          1"
      ]
     },
     "execution_count": 70,
     "metadata": {},
     "output_type": "execute_result"
    }
   ],
   "source": [
    "df.head()"
   ]
  },
  {
   "cell_type": "markdown",
   "metadata": {},
   "source": [
    "3). Carry out label encoding by integers (required form by Keras):"
   ]
  },
  {
   "cell_type": "code",
   "execution_count": 71,
   "metadata": {},
   "outputs": [],
   "source": [
    "X=df.text\n",
    "Y=df.sentiment\n",
    "X_train, X_test, Y_train, Y_test = train_test_split(X, Y, test_size=0.15, stratify = Y)"
   ]
  },
  {
   "cell_type": "code",
   "execution_count": 73,
   "metadata": {},
   "outputs": [],
   "source": [
    "#Tokenize the data and convert the text to sequences\n",
    "from keras.preprocessing.text import Tokenizer\n",
    "\n",
    "max_words = 1000\n",
    "max_len = 150 #arbitrary chosen\n",
    "tok = Tokenizer(num_words=max_words)\n",
    "tok.fit_on_texts(X_train)\n",
    "sequences = tok.texts_to_sequences(X_train)"
   ]
  },
  {
   "cell_type": "markdown",
   "metadata": {},
   "source": [
    "4). Prepare the data for AI: <br>\n",
    "- Apply the padding.\n",
    "- Split the data into training and testing."
   ]
  },
  {
   "cell_type": "code",
   "execution_count": 74,
   "metadata": {},
   "outputs": [
    {
     "name": "stdout",
     "output_type": "stream",
     "text": [
      "sequences[2] length:  526\n",
      "sequences length:  1700\n"
     ]
    }
   ],
   "source": [
    "#padding\n",
    "sequences_matrix = sequence.pad_sequences(sequences,maxlen=max_len)\n",
    "print('sequences[2] length: ', len(sequences[2]))\n",
    "print('sequences length: ', len(sequences))"
   ]
  },
  {
   "cell_type": "markdown",
   "metadata": {},
   "source": [
    "5). Define the AI model (Embedding + LSTM):"
   ]
  },
  {
   "cell_type": "code",
   "execution_count": 75,
   "metadata": {},
   "outputs": [],
   "source": [
    "def RNN():\n",
    "    inputs = Input(name='inputs',shape=[max_len])\n",
    "    layer = Embedding(max_words,128,input_length=max_len)(inputs)\n",
    "    layer = LSTM(64)(layer)\n",
    "    layer = Dense(256,name='FC1')(layer)\n",
    "    layer = Activation('relu')(layer)\n",
    "    layer = Dropout(0.5)(layer)\n",
    "    layer = Dense(1,name='out_layer')(layer)\n",
    "    layer = Activation('sigmoid')(layer)\n",
    "    model = keras.Model(inputs=inputs,outputs=layer)\n",
    "    return model"
   ]
  },
  {
   "cell_type": "markdown",
   "metadata": {},
   "source": [
    "6). Define the optimizer and compile the model:"
   ]
  },
  {
   "cell_type": "code",
   "execution_count": 76,
   "metadata": {},
   "outputs": [],
   "source": [
    "model = RNN()\n",
    "model.compile(loss='binary_crossentropy',optimizer=Adam(),metrics=['accuracy'])"
   ]
  },
  {
   "cell_type": "markdown",
   "metadata": {},
   "source": [
    "7). Train the model and visualize the summary:"
   ]
  },
  {
   "cell_type": "code",
   "execution_count": 79,
   "metadata": {},
   "outputs": [
    {
     "name": "stdout",
     "output_type": "stream",
     "text": [
      "Epoch 1/10\n",
      "11/11 [==============================] - 6s 571ms/step - loss: 0.6924 - accuracy: 0.5368 - val_loss: 0.6895 - val_accuracy: 0.6235\n",
      "Epoch 2/10\n",
      "11/11 [==============================] - 3s 269ms/step - loss: 0.6766 - accuracy: 0.7287 - val_loss: 0.6504 - val_accuracy: 0.7118\n",
      "Epoch 3/10\n",
      "11/11 [==============================] - 3s 286ms/step - loss: 0.5338 - accuracy: 0.7919 - val_loss: 0.4285 - val_accuracy: 0.8059\n",
      "Epoch 4/10\n",
      "11/11 [==============================] - 3s 283ms/step - loss: 0.3355 - accuracy: 0.8684 - val_loss: 0.4373 - val_accuracy: 0.7941\n"
     ]
    },
    {
     "data": {
      "text/plain": [
       "<tensorflow.python.keras.callbacks.History at 0x1ecbff098b0>"
      ]
     },
     "execution_count": 79,
     "metadata": {},
     "output_type": "execute_result"
    }
   ],
   "source": [
    "model.fit(sequences_matrix,Y_train,batch_size=128,epochs=10,\n",
    "          validation_split=0.2,callbacks=[EarlyStopping(monitor='val_loss',min_delta=0.0001)])"
   ]
  },
  {
   "cell_type": "markdown",
   "metadata": {},
   "source": [
    "8). Display the test result (accuracy):"
   ]
  },
  {
   "cell_type": "code",
   "execution_count": 80,
   "metadata": {},
   "outputs": [],
   "source": [
    "test_sequences = tok.texts_to_sequences(X_test)\n",
    "test_sequences_matrix = sequence.pad_sequences(test_sequences,maxlen=max_len)"
   ]
  },
  {
   "cell_type": "code",
   "execution_count": 81,
   "metadata": {},
   "outputs": [
    {
     "name": "stdout",
     "output_type": "stream",
     "text": [
      "10/10 [==============================] - 0s 29ms/step - loss: 0.4484 - accuracy: 0.8033\n",
      "Test set\n",
      "  Loss: 0.448\n",
      "  Accuracy: 0.803\n"
     ]
    }
   ],
   "source": [
    "accr = model.evaluate(test_sequences_matrix,Y_test)\n",
    "print('Test set\\n  Loss: {:0.3f}\\n  Accuracy: {:0.3f}'.format(accr[0],accr[1]))"
   ]
  }
 ],
 "metadata": {
  "kernelspec": {
   "display_name": "Python 3 (ipykernel)",
   "language": "python",
   "name": "python3"
  },
  "language_info": {
   "codemirror_mode": {
    "name": "ipython",
    "version": 3
   },
   "file_extension": ".py",
   "mimetype": "text/x-python",
   "name": "python",
   "nbconvert_exporter": "python",
   "pygments_lexer": "ipython3",
   "version": "3.8.11"
  },
  "toc": {
   "base_numbering": 1,
   "nav_menu": {},
   "number_sections": true,
   "sideBar": true,
   "skip_h1_title": false,
   "title_cell": "Table of Contents",
   "title_sidebar": "Contents",
   "toc_cell": false,
   "toc_position": {},
   "toc_section_display": true,
   "toc_window_display": false
  },
  "varInspector": {
   "cols": {
    "lenName": 16,
    "lenType": 16,
    "lenVar": 40
   },
   "kernels_config": {
    "python": {
     "delete_cmd_postfix": "",
     "delete_cmd_prefix": "del ",
     "library": "var_list.py",
     "varRefreshCmd": "print(var_dic_list())"
    },
    "r": {
     "delete_cmd_postfix": ") ",
     "delete_cmd_prefix": "rm(",
     "library": "var_list.r",
     "varRefreshCmd": "cat(var_dic_list()) "
    }
   },
   "types_to_exclude": [
    "module",
    "function",
    "builtin_function_or_method",
    "instance",
    "_Feature"
   ],
   "window_display": false
  }
 },
 "nbformat": 4,
 "nbformat_minor": 2
}
